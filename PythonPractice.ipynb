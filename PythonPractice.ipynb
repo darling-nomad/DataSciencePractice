{
 "cells": [
  {
   "cell_type": "markdown",
   "metadata": {},
   "source": [
    "# Python Practice Notebook\n",
    "#### Table of Contents\n",
    "**[Notes →](#notes)** <br>\n",
    "**[Interview Master →](#interview-master)** "
   ]
  },
  {
   "cell_type": "code",
   "execution_count": null,
   "metadata": {},
   "outputs": [],
   "source": [
    "import numpy as np\n",
    "import pandas as pd"
   ]
  },
  {
   "cell_type": "markdown",
   "metadata": {},
   "source": [
    "#### Problem Title (template)"
   ]
  },
  {
   "cell_type": "markdown",
   "metadata": {},
   "source": [
    "##### The background"
   ]
  },
  {
   "cell_type": "markdown",
   "metadata": {},
   "source": [
    "###### The question"
   ]
  },
  {
   "cell_type": "code",
   "execution_count": null,
   "metadata": {},
   "outputs": [],
   "source": [
    "# The code"
   ]
  },
  {
   "cell_type": "markdown",
   "metadata": {},
   "source": [
    "## Notes\n"
   ]
  },
  {
   "cell_type": "markdown",
   "metadata": {},
   "source": [
    "### Pandas\n"
   ]
  },
  {
   "cell_type": "markdown",
   "metadata": {},
   "source": [
    "#### Pandas Datetime functions"
   ]
  },
  {
   "cell_type": "markdown",
   "metadata": {},
   "source": [
    "This shows how dfs can be filtered based on date values."
   ]
  },
  {
   "cell_type": "code",
   "execution_count": null,
   "metadata": {},
   "outputs": [],
   "source": [
    "filtered_df = df[(df['date'] >= '2024-03-01') & (df['date'] < '2024-04-01')]"
   ]
  },
  {
   "cell_type": "markdown",
   "metadata": {},
   "source": [
    "#### pd.to_datetime"
   ]
  },
  {
   "cell_type": "markdown",
   "metadata": {},
   "source": [
    "pd.to_datetime changes the type of a cell to datetime"
   ]
  },
  {
   "cell_type": "markdown",
   "metadata": {},
   "source": [
    "#### groupby()"
   ]
  },
  {
   "cell_type": "markdown",
   "metadata": {},
   "source": [
    "groupby lets you reconfigure a dataframe to aggregate on a column"
   ]
  },
  {
   "cell_type": "code",
   "execution_count": null,
   "metadata": {},
   "outputs": [
    {
     "name": "stdout",
     "output_type": "stream",
     "text": [
      "Name:  <__main__.Object object at 0x1350a81a0>\n",
      "Property:  stuff\n",
      "ID:  5\n"
     ]
    }
   ],
   "source": [
    "\n",
    "df = df.groupby(['department_id','job_category_id'])\n",
    "result = df['satisfaction_score'].mean().reset_index()\n",
    "\n",
    "# this groups the dataframe by the department_id and \n",
    "# job_category_id columns and the mean of remaining columns."
   ]
  },
  {
   "cell_type": "markdown",
   "metadata": {},
   "source": [
    "### Constructors\n"
   ]
  },
  {
   "cell_type": "markdown",
   "metadata": {},
   "source": [
    "#### Object Oriented Programming\n"
   ]
  },
  {
   "cell_type": "markdown",
   "metadata": {},
   "source": [
    "The takeaway"
   ]
  },
  {
   "cell_type": "code",
   "execution_count": null,
   "metadata": {},
   "outputs": [
    {
     "name": "stdout",
     "output_type": "stream",
     "text": [
      "Name:  <__main__.Object object at 0x1350a81a0>\n",
      "Property:  stuff\n",
      "ID:  5\n"
     ]
    }
   ],
   "source": [
    "class Object:\n",
    "    def __init__(self,id):\n",
    "        self.name = self\n",
    "        self.property = 'stuff'\n",
    "        self.id = id\n",
    "    def object_details(self):\n",
    "        print('Name: ', self.name)\n",
    "        print('Property: ', self.property)\n",
    "        print('ID: ', self.id)\n",
    "\n",
    "# This is a constructor for an object that passes in\n",
    "# the parameters of self and id and assigns the property.\n",
    "# It also creates a function for displaying its details\n",
    "\n",
    "o = Object(5)\n",
    "o.object_details()"
   ]
  },
  {
   "cell_type": "markdown",
   "metadata": {},
   "source": [
    "## Interview Master"
   ]
  },
  {
   "cell_type": "markdown",
   "metadata": {},
   "source": [
    "#### User Engagement with Photo Categorization Features"
   ]
  },
  {
   "cell_type": "markdown",
   "metadata": {},
   "source": [
    "##### As a Data Analyst on the Google Photos Machine Learning Team, you are tasked with understanding user engagement with our automatic photo categorization features. Your team aims to quantify how many photos have been categorized and identify the unique users interacting with this functionality. By analyzing this data, you will help prioritize enhancements to improve user experience and engagement with our photo management tools."
   ]
  },
  {
   "cell_type": "markdown",
   "metadata": {},
   "source": [
    "###### We need to measure initial user engagement with the categorization features. How many photos have been categorized by the system in January 2024?"
   ]
  },
  {
   "cell_type": "code",
   "execution_count": null,
   "metadata": {},
   "outputs": [],
   "source": [
    "# Note: pandas and numpy are already imported as pd and np\n",
    "# The following tables are loaded as pandas DataFrames with the same names: automatic_photo_categorization\n",
    "# Please print your final result or dataframe\n",
    "automatic_photo_categorization['categorization_date'] =\n",
    "    pd.to_datetime(automatic_photo_categorization.categorization_date)\n",
    "january_data = automatic_photo_categorization[\n",
    "    (automatic_photo_categorization['categorization_date'].dt.month == 1) &\n",
    "  (automatic_photo_categorization['categorization_date'].dt.year == 2024)]\n",
    "print(len(january_data))"
   ]
  },
  {
   "cell_type": "markdown",
   "metadata": {},
   "source": [
    "###### What is the total number of unique users who have interacted with the categorization feature in February 2024?"
   ]
  },
  {
   "cell_type": "code",
   "execution_count": null,
   "metadata": {},
   "outputs": [],
   "source": [
    "feb_data = automatic_photo_categorization[(automatic_photo_categorization['categorization_date'] >= '2024-02-01')\n",
    "  & (automatic_photo_categorization['categorization_date'] < '2024-03-01')]\n",
    "print(len(feb_data.drop_duplicates(subset = 'user_id')))"
   ]
  },
  {
   "cell_type": "markdown",
   "metadata": {},
   "source": [
    "###### For March 2024, calculate the total number of categorized photos per user and rename the resulting column to 'total_categorized_photos'. We want to identify the most active users for user research purposes."
   ]
  },
  {
   "cell_type": "code",
   "execution_count": null,
   "metadata": {},
   "outputs": [],
   "source": [
    "mar_data = automatic_photo_categorization[(automatic_photo_categorization['categorization_date'] >= '2024-03-01')\n",
    "  & (automatic_photo_categorization['categorization_date'] < '2024-04-01')]\n",
    "\n",
    "mar_data = mar_data.groupby('user_id')\n",
    "result = mar_data['photo_id'].count().reset_index()\n",
    "result = result.rename(columns = {\"photo_id\":\"total_categorized_photos\"})\n",
    "print(result)"
   ]
  },
  {
   "cell_type": "markdown",
   "metadata": {},
   "source": [
    "#### Employee Retention and Satisfaction"
   ]
  },
  {
   "cell_type": "markdown",
   "metadata": {},
   "source": [
    "##### As a member of the Netflix HR team, you are tasked with addressing employee retention challenges by analyzing employee satisfaction data. Your goal is to identify the average satisfaction scores across different departments and job categories to pinpoint areas for improvement. By understanding these metrics, your team can develop targeted strategies to enhance employee engagement and reduce turnover."
   ]
  },
  {
   "cell_type": "markdown",
   "metadata": {},
   "source": [
    "###### The HR team wants to understand the average satisfaction score of employees across different departments. Can you provide the average satisfaction score rounded down to the nearest whole number for each department?"
   ]
  },
  {
   "cell_type": "code",
   "execution_count": null,
   "metadata": {},
   "outputs": [],
   "source": [
    "employee_satisfaction = []\n",
    "department_list = employee_satisfaction.groupby('department_id')\n",
    "result = department_list['satisfaction_score'].mean().reset_index()\n",
    "result.satisfaction_score = result.satisfaction_score.astype('int')\n",
    "print(result)"
   ]
  },
  {
   "cell_type": "markdown",
   "metadata": {},
   "source": [
    "###### In addition to the previous analysis, the HR team is interested in knowing the average satisfaction score rounded up to the nearest whole number for each job category. Can you calculate this using the same data?"
   ]
  },
  {
   "cell_type": "code",
   "execution_count": null,
   "metadata": {},
   "outputs": [],
   "source": [
    "department_list = employee_satisfaction.groupby('job_category_id')\n",
    "result = department_list['satisfaction_score'].mean().reset_index()\n",
    "result.satisfaction_score = np.ceil(result.satisfaction_score)\n",
    "print(result)"
   ]
  },
  {
   "cell_type": "markdown",
   "metadata": {},
   "source": [
    "###### The HR team wants a consolidated report that includes both the rounded down and rounded up average satisfaction scores for each department and job category. Please rename the columns appropriately to 'Floor_Avg_Satisfaction' and 'Ceil_Avg_Satisfaction'."
   ]
  },
  {
   "cell_type": "code",
   "execution_count": null,
   "metadata": {},
   "outputs": [],
   "source": [
    "department_list = employee_satisfaction.groupby(['department_id','job_category_id'])\n",
    "result = department_list['satisfaction_score'].mean().reset_index()\n",
    "result['Floor_Avg_Satisfaction'] = np.floor(result.satisfaction_score)\n",
    "result['Ceil_Avg_Satisfaction'] = np.ceil(result.satisfaction_score)\n",
    "print(result)"
   ]
  },
  {
   "cell_type": "markdown",
   "metadata": {},
   "source": [
    "## Jump To\n",
    "**[Notes →](#notes)** <br>\n",
    "**[Interview Master →](#interview-master)** "
   ]
  }
 ],
 "metadata": {
  "language_info": {
   "name": "python"
  }
 },
 "nbformat": 4,
 "nbformat_minor": 2
}
