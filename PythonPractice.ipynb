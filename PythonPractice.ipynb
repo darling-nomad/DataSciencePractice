{
 "cells": [
  {
   "cell_type": "markdown",
   "metadata": {},
   "source": [
    "# Python Practice Notebook\n",
    "#### Table of Contents\n",
    "**[Notes →](#notes)** <br>\n",
    "**[Interview Master →](#interview-master)** "
   ]
  },
  {
   "cell_type": "markdown",
   "metadata": {},
   "source": [
    "#### Problem Title (template)"
   ]
  },
  {
   "cell_type": "markdown",
   "metadata": {},
   "source": [
    "##### The background"
   ]
  },
  {
   "cell_type": "markdown",
   "metadata": {},
   "source": [
    "###### The question"
   ]
  },
  {
   "cell_type": "code",
   "execution_count": null,
   "metadata": {},
   "outputs": [],
   "source": [
    "-- The code"
   ]
  },
  {
   "cell_type": "markdown",
   "metadata": {},
   "source": [
    "## Notes\n"
   ]
  },
  {
   "cell_type": "markdown",
   "metadata": {},
   "source": [
    "### Pandas\n"
   ]
  },
  {
   "cell_type": "markdown",
   "metadata": {},
   "source": [
    "#### groupby()"
   ]
  },
  {
   "cell_type": "markdown",
   "metadata": {},
   "source": [
    "groupby lets you reconfigure "
   ]
  },
  {
   "cell_type": "code",
   "execution_count": null,
   "metadata": {},
   "outputs": [],
   "source": [
    "import numpy as np\n",
    "import pandas as pd"
   ]
  },
  {
   "cell_type": "code",
   "execution_count": null,
   "metadata": {},
   "outputs": [
    {
     "name": "stdout",
     "output_type": "stream",
     "text": [
      "Name:  <__main__.Object object at 0x1350a81a0>\n",
      "Property:  stuff\n",
      "ID:  5\n"
     ]
    }
   ],
   "source": [
    "df = df.groupby(['department_id','job_category_id'])\n",
    "result = df['satisfaction_score'].mean().reset_index()\n",
    "\n",
    "# This is a constructor for an object that passes in\n",
    "# the parameters of self and id and assigns the property.\n",
    "# It also creates a function for displaying its details\n",
    "\n",
    "o = Object(5)\n",
    "o.object_details()"
   ]
  },
  {
   "cell_type": "markdown",
   "metadata": {},
   "source": [
    "### Constructors\n"
   ]
  },
  {
   "cell_type": "markdown",
   "metadata": {},
   "source": [
    "#### Object Oriented Programming\n"
   ]
  },
  {
   "cell_type": "markdown",
   "metadata": {},
   "source": [
    "The takeaway"
   ]
  },
  {
   "cell_type": "code",
   "execution_count": null,
   "metadata": {},
   "outputs": [
    {
     "name": "stdout",
     "output_type": "stream",
     "text": [
      "Name:  <__main__.Object object at 0x1350a81a0>\n",
      "Property:  stuff\n",
      "ID:  5\n"
     ]
    }
   ],
   "source": [
    "class Object:\n",
    "    def __init__(self,id):\n",
    "        self.name = self\n",
    "        self.property = 'stuff'\n",
    "        self.id = id\n",
    "    def object_details(self):\n",
    "        print('Name: ', self.name)\n",
    "        print('Property: ', self.property)\n",
    "        print('ID: ', self.id)\n",
    "\n",
    "# This is a constructor for an object that passes in\n",
    "# the parameters of self and id and assigns the property.\n",
    "# It also creates a function for displaying its details\n",
    "\n",
    "o = Object(5)\n",
    "o.object_details()"
   ]
  },
  {
   "cell_type": "markdown",
   "metadata": {},
   "source": [
    "## Interview Master"
   ]
  },
  {
   "cell_type": "markdown",
   "metadata": {},
   "source": [
    "#### Employee Retention and Satisfaction"
   ]
  },
  {
   "cell_type": "markdown",
   "metadata": {},
   "source": [
    "##### As a member of the Netflix HR team, you are tasked with addressing employee retention challenges by analyzing employee satisfaction data. Your goal is to identify the average satisfaction scores across different departments and job categories to pinpoint areas for improvement. By understanding these metrics, your team can develop targeted strategies to enhance employee engagement and reduce turnover."
   ]
  },
  {
   "cell_type": "markdown",
   "metadata": {},
   "source": [
    "###### The HR team wants to understand the average satisfaction score of employees across different departments. Can you provide the average satisfaction score rounded down to the nearest whole number for each department?"
   ]
  },
  {
   "cell_type": "code",
   "execution_count": null,
   "metadata": {},
   "outputs": [],
   "source": [
    "department_list = employee_satisfaction.groupby('department_id')\n",
    "result = department_list['satisfaction_score'].mean().reset_index()\n",
    "result.satisfaction_score = result.satisfaction_score.astype('int')\n",
    "print(result)"
   ]
  },
  {
   "cell_type": "markdown",
   "metadata": {},
   "source": [
    "###### In addition to the previous analysis, the HR team is interested in knowing the average satisfaction score rounded up to the nearest whole number for each job category. Can you calculate this using the same data?"
   ]
  },
  {
   "cell_type": "code",
   "execution_count": null,
   "metadata": {},
   "outputs": [],
   "source": [
    "department_list = employee_satisfaction.groupby('job_category_id')\n",
    "result = department_list['satisfaction_score'].mean().reset_index()\n",
    "result.satisfaction_score = np.ceil(result.satisfaction_score)\n",
    "print(result)"
   ]
  },
  {
   "cell_type": "markdown",
   "metadata": {},
   "source": [
    "###### The HR team wants a consolidated report that includes both the rounded down and rounded up average satisfaction scores for each department and job category. Please rename the columns appropriately to 'Floor_Avg_Satisfaction' and 'Ceil_Avg_Satisfaction'."
   ]
  },
  {
   "cell_type": "code",
   "execution_count": null,
   "metadata": {},
   "outputs": [],
   "source": [
    "department_list = employee_satisfaction.groupby(['department_id','job_category_id'])\n",
    "result = department_list['satisfaction_score'].mean().reset_index()\n",
    "result['Floor_Avg_Satisfaction'] = np.floor(result.satisfaction_score)\n",
    "result['Ceil_Avg_Satisfaction'] = np.ceil(result.satisfaction_score)\n",
    "print(result)"
   ]
  },
  {
   "cell_type": "markdown",
   "metadata": {},
   "source": [
    "## Jump To\n",
    "**[Notes →](#notes)** <br>\n",
    "**[Interview Master →](#interview-master)** "
   ]
  }
 ],
 "metadata": {
  "language_info": {
   "name": "python"
  }
 },
 "nbformat": 4,
 "nbformat_minor": 2
}
