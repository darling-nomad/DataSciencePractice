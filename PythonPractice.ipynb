{
 "cells": [
  {
   "cell_type": "markdown",
   "metadata": {},
   "source": [
    "# Python Practice"
   ]
  },
  {
   "cell_type": "markdown",
   "metadata": {},
   "source": [
    "### Constructors\n",
    "#### Object Oriented Programming\n"
   ]
  },
  {
   "cell_type": "code",
   "execution_count": null,
   "metadata": {},
   "outputs": [
    {
     "name": "stdout",
     "output_type": "stream",
     "text": [
      "Name:  <__main__.Object object at 0x1350a81a0>\n",
      "Property:  stuff\n",
      "ID:  5\n"
     ]
    }
   ],
   "source": [
    "class Object:\n",
    "    def __init__(self,id):\n",
    "        self.name = self\n",
    "        self.property = 'stuff'\n",
    "        self.id = id\n",
    "    def object_details(self):\n",
    "        print('Name: ', self.name)\n",
    "        print('Property: ', self.property)\n",
    "        print('ID: ', self.id)\n",
    "\n",
    "# This is a constructor for an object that passes in\n",
    "# the parameters of self and id and assigns the property.\n",
    "# It also creates a function for displaying its details\n",
    "\n",
    "o = Object(5)\n",
    "o.object_details()"
   ]
  }
 ],
 "metadata": {
  "language_info": {
   "name": "python"
  }
 },
 "nbformat": 4,
 "nbformat_minor": 2
}
