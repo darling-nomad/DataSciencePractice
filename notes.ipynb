{
 "cells": [
  {
   "cell_type": "markdown",
   "metadata": {},
   "source": [
    "# DataShip Notes\n",
    "***\n",
    "#### This is going to be the central location where I keep my notes and some of my code for DataShip programs.\n",
    "It will contain links to other files, web pages, and more that will be helpful in preparing myself on my data science journey.\n",
    "\n"
   ]
  },
  {
   "cell_type": "markdown",
   "metadata": {},
   "source": [
    "https://www.ibm.com/docs/en/watson-studio-local/1.2.3?topic=notebooks-markdown-jupyter-cheatsheet"
   ]
  },
  {
   "cell_type": "markdown",
   "metadata": {},
   "source": [
    "## Table of Contents\n",
    "**[Python Practice Notebook →](PythonPractice.ipynb)** <br>\n",
    "**[Constructors ->](#constructors)**"
   ]
  },
  {
   "cell_type": "markdown",
   "metadata": {},
   "source": [
    "### Constructors\n",
    "#### Object Oriented Programming\n"
   ]
  },
  {
   "cell_type": "code",
   "execution_count": 23,
   "metadata": {},
   "outputs": [
    {
     "name": "stdout",
     "output_type": "stream",
     "text": [
      "Name:  <__main__.Object object at 0x1350a81a0>\n",
      "Property:  stuff\n",
      "ID:  5\n"
     ]
    }
   ],
   "source": [
    "class Object:\n",
    "    def __init__(self,id):\n",
    "        self.name = self\n",
    "        self.property = 'stuff'\n",
    "        self.id = id\n",
    "    def object_details(self):\n",
    "        print('Name: ', self.name)\n",
    "        print('Property: ', self.property)\n",
    "        print('ID: ', self.id)\n",
    "\n",
    "# This is a constructor for an object that passes in\n",
    "# the parameters of self and id and assigns the property.\n",
    "# It also creates a function for displaying its details\n",
    "\n",
    "o = Object(5)\n",
    "o.object_details()"
   ]
  }
 ],
 "metadata": {
  "kernelspec": {
   "display_name": "base",
   "language": "python",
   "name": "python3"
  },
  "language_info": {
   "codemirror_mode": {
    "name": "ipython",
    "version": 3
   },
   "file_extension": ".py",
   "mimetype": "text/x-python",
   "name": "python",
   "nbconvert_exporter": "python",
   "pygments_lexer": "ipython3",
   "version": "3.12.4"
  }
 },
 "nbformat": 4,
 "nbformat_minor": 2
}
